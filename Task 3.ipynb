{
 "cells": [
  {
   "cell_type": "markdown",
   "id": "c0e02b4b",
   "metadata": {},
   "source": [
    "# Stock Market Prediction And Forecasting Using Stacked LSTM"
   ]
  },
  {
   "cell_type": "code",
   "execution_count": 1,
   "id": "135917d9",
   "metadata": {},
   "outputs": [],
   "source": [
    "import pandas as pd\n"
   ]
  },
  {
   "cell_type": "code",
   "execution_count": 2,
   "id": "1d73921d",
   "metadata": {},
   "outputs": [],
   "source": [
    "df=pd.read_csv(\"file.csv\")"
   ]
  },
  {
   "cell_type": "code",
   "execution_count": 3,
   "id": "0955e1e4",
   "metadata": {},
   "outputs": [
    {
     "data": {
      "text/html": [
       "<div>\n",
       "<style scoped>\n",
       "    .dataframe tbody tr th:only-of-type {\n",
       "        vertical-align: middle;\n",
       "    }\n",
       "\n",
       "    .dataframe tbody tr th {\n",
       "        vertical-align: top;\n",
       "    }\n",
       "\n",
       "    .dataframe thead th {\n",
       "        text-align: right;\n",
       "    }\n",
       "</style>\n",
       "<table border=\"1\" class=\"dataframe\">\n",
       "  <thead>\n",
       "    <tr style=\"text-align: right;\">\n",
       "      <th></th>\n",
       "      <th>Date</th>\n",
       "      <th>Open</th>\n",
       "      <th>High</th>\n",
       "      <th>Low</th>\n",
       "      <th>Last</th>\n",
       "      <th>Close</th>\n",
       "      <th>Total Trade Quantity</th>\n",
       "      <th>Turnover (Lacs)</th>\n",
       "    </tr>\n",
       "  </thead>\n",
       "  <tbody>\n",
       "    <tr>\n",
       "      <th>0</th>\n",
       "      <td>2018-09-28</td>\n",
       "      <td>234.05</td>\n",
       "      <td>235.95</td>\n",
       "      <td>230.20</td>\n",
       "      <td>233.50</td>\n",
       "      <td>233.75</td>\n",
       "      <td>3069914</td>\n",
       "      <td>7162.35</td>\n",
       "    </tr>\n",
       "    <tr>\n",
       "      <th>1</th>\n",
       "      <td>2018-09-27</td>\n",
       "      <td>234.55</td>\n",
       "      <td>236.80</td>\n",
       "      <td>231.10</td>\n",
       "      <td>233.80</td>\n",
       "      <td>233.25</td>\n",
       "      <td>5082859</td>\n",
       "      <td>11859.95</td>\n",
       "    </tr>\n",
       "    <tr>\n",
       "      <th>2</th>\n",
       "      <td>2018-09-26</td>\n",
       "      <td>240.00</td>\n",
       "      <td>240.00</td>\n",
       "      <td>232.50</td>\n",
       "      <td>235.00</td>\n",
       "      <td>234.25</td>\n",
       "      <td>2240909</td>\n",
       "      <td>5248.60</td>\n",
       "    </tr>\n",
       "    <tr>\n",
       "      <th>3</th>\n",
       "      <td>2018-09-25</td>\n",
       "      <td>233.30</td>\n",
       "      <td>236.75</td>\n",
       "      <td>232.00</td>\n",
       "      <td>236.25</td>\n",
       "      <td>236.10</td>\n",
       "      <td>2349368</td>\n",
       "      <td>5503.90</td>\n",
       "    </tr>\n",
       "    <tr>\n",
       "      <th>4</th>\n",
       "      <td>2018-09-24</td>\n",
       "      <td>233.55</td>\n",
       "      <td>239.20</td>\n",
       "      <td>230.75</td>\n",
       "      <td>234.00</td>\n",
       "      <td>233.30</td>\n",
       "      <td>3423509</td>\n",
       "      <td>7999.55</td>\n",
       "    </tr>\n",
       "    <tr>\n",
       "      <th>...</th>\n",
       "      <td>...</td>\n",
       "      <td>...</td>\n",
       "      <td>...</td>\n",
       "      <td>...</td>\n",
       "      <td>...</td>\n",
       "      <td>...</td>\n",
       "      <td>...</td>\n",
       "      <td>...</td>\n",
       "    </tr>\n",
       "    <tr>\n",
       "      <th>2030</th>\n",
       "      <td>2010-07-27</td>\n",
       "      <td>117.60</td>\n",
       "      <td>119.50</td>\n",
       "      <td>112.00</td>\n",
       "      <td>118.80</td>\n",
       "      <td>118.65</td>\n",
       "      <td>586100</td>\n",
       "      <td>694.98</td>\n",
       "    </tr>\n",
       "    <tr>\n",
       "      <th>2031</th>\n",
       "      <td>2010-07-26</td>\n",
       "      <td>120.10</td>\n",
       "      <td>121.00</td>\n",
       "      <td>117.10</td>\n",
       "      <td>117.10</td>\n",
       "      <td>117.60</td>\n",
       "      <td>658440</td>\n",
       "      <td>780.01</td>\n",
       "    </tr>\n",
       "    <tr>\n",
       "      <th>2032</th>\n",
       "      <td>2010-07-23</td>\n",
       "      <td>121.80</td>\n",
       "      <td>121.95</td>\n",
       "      <td>120.25</td>\n",
       "      <td>120.35</td>\n",
       "      <td>120.65</td>\n",
       "      <td>281312</td>\n",
       "      <td>340.31</td>\n",
       "    </tr>\n",
       "    <tr>\n",
       "      <th>2033</th>\n",
       "      <td>2010-07-22</td>\n",
       "      <td>120.30</td>\n",
       "      <td>122.00</td>\n",
       "      <td>120.25</td>\n",
       "      <td>120.75</td>\n",
       "      <td>120.90</td>\n",
       "      <td>293312</td>\n",
       "      <td>355.17</td>\n",
       "    </tr>\n",
       "    <tr>\n",
       "      <th>2034</th>\n",
       "      <td>2010-07-21</td>\n",
       "      <td>122.10</td>\n",
       "      <td>123.00</td>\n",
       "      <td>121.05</td>\n",
       "      <td>121.10</td>\n",
       "      <td>121.55</td>\n",
       "      <td>658666</td>\n",
       "      <td>803.56</td>\n",
       "    </tr>\n",
       "  </tbody>\n",
       "</table>\n",
       "<p>2035 rows × 8 columns</p>\n",
       "</div>"
      ],
      "text/plain": [
       "            Date    Open    High     Low    Last   Close  \\\n",
       "0     2018-09-28  234.05  235.95  230.20  233.50  233.75   \n",
       "1     2018-09-27  234.55  236.80  231.10  233.80  233.25   \n",
       "2     2018-09-26  240.00  240.00  232.50  235.00  234.25   \n",
       "3     2018-09-25  233.30  236.75  232.00  236.25  236.10   \n",
       "4     2018-09-24  233.55  239.20  230.75  234.00  233.30   \n",
       "...          ...     ...     ...     ...     ...     ...   \n",
       "2030  2010-07-27  117.60  119.50  112.00  118.80  118.65   \n",
       "2031  2010-07-26  120.10  121.00  117.10  117.10  117.60   \n",
       "2032  2010-07-23  121.80  121.95  120.25  120.35  120.65   \n",
       "2033  2010-07-22  120.30  122.00  120.25  120.75  120.90   \n",
       "2034  2010-07-21  122.10  123.00  121.05  121.10  121.55   \n",
       "\n",
       "      Total Trade Quantity  Turnover (Lacs)  \n",
       "0                  3069914          7162.35  \n",
       "1                  5082859         11859.95  \n",
       "2                  2240909          5248.60  \n",
       "3                  2349368          5503.90  \n",
       "4                  3423509          7999.55  \n",
       "...                    ...              ...  \n",
       "2030                586100           694.98  \n",
       "2031                658440           780.01  \n",
       "2032                281312           340.31  \n",
       "2033                293312           355.17  \n",
       "2034                658666           803.56  \n",
       "\n",
       "[2035 rows x 8 columns]"
      ]
     },
     "execution_count": 3,
     "metadata": {},
     "output_type": "execute_result"
    }
   ],
   "source": [
    "df"
   ]
  },
  {
   "cell_type": "code",
   "execution_count": 4,
   "id": "f445fce9",
   "metadata": {},
   "outputs": [
    {
     "data": {
      "text/html": [
       "<div>\n",
       "<style scoped>\n",
       "    .dataframe tbody tr th:only-of-type {\n",
       "        vertical-align: middle;\n",
       "    }\n",
       "\n",
       "    .dataframe tbody tr th {\n",
       "        vertical-align: top;\n",
       "    }\n",
       "\n",
       "    .dataframe thead th {\n",
       "        text-align: right;\n",
       "    }\n",
       "</style>\n",
       "<table border=\"1\" class=\"dataframe\">\n",
       "  <thead>\n",
       "    <tr style=\"text-align: right;\">\n",
       "      <th></th>\n",
       "      <th>Date</th>\n",
       "      <th>Open</th>\n",
       "      <th>High</th>\n",
       "      <th>Low</th>\n",
       "      <th>Last</th>\n",
       "      <th>Close</th>\n",
       "      <th>Total Trade Quantity</th>\n",
       "      <th>Turnover (Lacs)</th>\n",
       "    </tr>\n",
       "  </thead>\n",
       "  <tbody>\n",
       "    <tr>\n",
       "      <th>0</th>\n",
       "      <td>2018-09-28</td>\n",
       "      <td>234.05</td>\n",
       "      <td>235.95</td>\n",
       "      <td>230.20</td>\n",
       "      <td>233.50</td>\n",
       "      <td>233.75</td>\n",
       "      <td>3069914</td>\n",
       "      <td>7162.35</td>\n",
       "    </tr>\n",
       "    <tr>\n",
       "      <th>1</th>\n",
       "      <td>2018-09-27</td>\n",
       "      <td>234.55</td>\n",
       "      <td>236.80</td>\n",
       "      <td>231.10</td>\n",
       "      <td>233.80</td>\n",
       "      <td>233.25</td>\n",
       "      <td>5082859</td>\n",
       "      <td>11859.95</td>\n",
       "    </tr>\n",
       "    <tr>\n",
       "      <th>2</th>\n",
       "      <td>2018-09-26</td>\n",
       "      <td>240.00</td>\n",
       "      <td>240.00</td>\n",
       "      <td>232.50</td>\n",
       "      <td>235.00</td>\n",
       "      <td>234.25</td>\n",
       "      <td>2240909</td>\n",
       "      <td>5248.60</td>\n",
       "    </tr>\n",
       "    <tr>\n",
       "      <th>3</th>\n",
       "      <td>2018-09-25</td>\n",
       "      <td>233.30</td>\n",
       "      <td>236.75</td>\n",
       "      <td>232.00</td>\n",
       "      <td>236.25</td>\n",
       "      <td>236.10</td>\n",
       "      <td>2349368</td>\n",
       "      <td>5503.90</td>\n",
       "    </tr>\n",
       "    <tr>\n",
       "      <th>4</th>\n",
       "      <td>2018-09-24</td>\n",
       "      <td>233.55</td>\n",
       "      <td>239.20</td>\n",
       "      <td>230.75</td>\n",
       "      <td>234.00</td>\n",
       "      <td>233.30</td>\n",
       "      <td>3423509</td>\n",
       "      <td>7999.55</td>\n",
       "    </tr>\n",
       "  </tbody>\n",
       "</table>\n",
       "</div>"
      ],
      "text/plain": [
       "         Date    Open    High     Low    Last   Close  Total Trade Quantity  \\\n",
       "0  2018-09-28  234.05  235.95  230.20  233.50  233.75               3069914   \n",
       "1  2018-09-27  234.55  236.80  231.10  233.80  233.25               5082859   \n",
       "2  2018-09-26  240.00  240.00  232.50  235.00  234.25               2240909   \n",
       "3  2018-09-25  233.30  236.75  232.00  236.25  236.10               2349368   \n",
       "4  2018-09-24  233.55  239.20  230.75  234.00  233.30               3423509   \n",
       "\n",
       "   Turnover (Lacs)  \n",
       "0          7162.35  \n",
       "1         11859.95  \n",
       "2          5248.60  \n",
       "3          5503.90  \n",
       "4          7999.55  "
      ]
     },
     "execution_count": 4,
     "metadata": {},
     "output_type": "execute_result"
    }
   ],
   "source": [
    "df.head()"
   ]
  },
  {
   "cell_type": "code",
   "execution_count": 5,
   "id": "7b05b023",
   "metadata": {},
   "outputs": [],
   "source": [
    "df2=df.reset_index()['Close']"
   ]
  },
  {
   "cell_type": "code",
   "execution_count": 6,
   "id": "2bf14143",
   "metadata": {},
   "outputs": [
    {
     "data": {
      "text/plain": [
       "0       233.75\n",
       "1       233.25\n",
       "2       234.25\n",
       "3       236.10\n",
       "4       233.30\n",
       "         ...  \n",
       "2030    118.65\n",
       "2031    117.60\n",
       "2032    120.65\n",
       "2033    120.90\n",
       "2034    121.55\n",
       "Name: Close, Length: 2035, dtype: float64"
      ]
     },
     "execution_count": 6,
     "metadata": {},
     "output_type": "execute_result"
    }
   ],
   "source": [
    "df2"
   ]
  },
  {
   "cell_type": "code",
   "execution_count": 7,
   "id": "dd88bd66",
   "metadata": {},
   "outputs": [
    {
     "data": {
      "text/plain": [
       "(2035,)"
      ]
     },
     "execution_count": 7,
     "metadata": {},
     "output_type": "execute_result"
    }
   ],
   "source": [
    "df2.shape"
   ]
  },
  {
   "cell_type": "code",
   "execution_count": 8,
   "id": "cf2796c8",
   "metadata": {},
   "outputs": [],
   "source": [
    "import matplotlib.pyplot as plt"
   ]
  },
  {
   "cell_type": "code",
   "execution_count": 9,
   "id": "8fe85131",
   "metadata": {},
   "outputs": [
    {
     "data": {
      "text/plain": [
       "[<matplotlib.lines.Line2D at 0x242a25af670>]"
      ]
     },
     "execution_count": 9,
     "metadata": {},
     "output_type": "execute_result"
    },
    {
     "data": {
      "image/png": "[encoded data removed]",
      "text/plain": [
       "<Figure size 432x288 with 1 Axes>"
      ]
     },
     "metadata": {
      "needs_background": "light"
     },
     "output_type": "display_data"
    }
   ],
   "source": [
    "plt.plot(df2)"
   ]
  },
  {
   "cell_type": "markdown",
   "id": "67074c67",
   "metadata": {},
   "source": [
    "# LSTM are sensitive to the scale of the data , so we apply MinMax scaler"
   ]
  },
  {
   "cell_type": "code",
   "execution_count": 10,
   "id": "d52f5035",
   "metadata": {},
   "outputs": [],
   "source": [
    "import numpy as np\n"
   ]
  },
  {
   "cell_type": "code",
   "execution_count": 11,
   "id": "d4dd07de",
   "metadata": {},
   "outputs": [
    {
     "data": {
      "text/plain": [
       "0       233.75\n",
       "1       233.25\n",
       "2       234.25\n",
       "3       236.10\n",
       "4       233.30\n",
       "         ...  \n",
       "2030    118.65\n",
       "2031    117.60\n",
       "2032    120.65\n",
       "2033    120.90\n",
       "2034    121.55\n",
       "Name: Close, Length: 2035, dtype: float64"
      ]
     },
     "execution_count": 11,
     "metadata": {},
     "output_type": "execute_result"
    }
   ],
   "source": [
    "df2"
   ]
  },
  {
   "cell_type": "code",
   "execution_count": 12,
   "id": "23181898",
   "metadata": {},
   "outputs": [],
   "source": [
    "from sklearn.preprocessing import MinMaxScaler\n",
    "scaler=MinMaxScaler(feature_range=(0,1))\n",
    "df2=scaler.fit_transform(np.array(df2).reshape(-1,1))"
   ]
  },
  {
   "cell_type": "code",
   "execution_count": 13,
   "id": "bd1c3da4",
   "metadata": {},
   "outputs": [
    {
     "data": {
      "text/plain": [
       "(2035, 1)"
      ]
     },
     "execution_count": 13,
     "metadata": {},
     "output_type": "execute_result"
    }
   ],
   "source": [
    "df2.shape"
   ]
  },
  {
   "cell_type": "code",
   "execution_count": 14,
   "id": "1e39dc91",
   "metadata": {},
   "outputs": [
    {
     "data": {
      "text/plain": [
       "array([[0.62418301],\n",
       "       [0.62214052],\n",
       "       [0.62622549],\n",
       "       ...,\n",
       "       [0.1621732 ],\n",
       "       [0.16319444],\n",
       "       [0.16584967]])"
      ]
     },
     "execution_count": 14,
     "metadata": {},
     "output_type": "execute_result"
    }
   ],
   "source": [
    "df2"
   ]
  },
  {
   "cell_type": "markdown",
   "id": "9c8d47de",
   "metadata": {},
   "source": [
    "# Splitting dataset into train and test split"
   ]
  },
  {
   "cell_type": "code",
   "execution_count": 15,
   "id": "83e60159",
   "metadata": {},
   "outputs": [],
   "source": [
    "training_size=int(len(df2)*0.65)\n",
    "test_size=len(df2)-training_size\n",
    "train_data,test_data=df2[0:training_size,:],df2[training_size:len(df2),:1]"
   ]
  },
  {
   "cell_type": "code",
   "execution_count": 16,
   "id": "4e21c6a2",
   "metadata": {},
   "outputs": [
    {
     "data": {
      "text/plain": [
       "(1322, 713)"
      ]
     },
     "execution_count": 16,
     "metadata": {},
     "output_type": "execute_result"
    }
   ],
   "source": [
    "training_size,test_size"
   ]
  },
  {
   "cell_type": "code",
   "execution_count": 17,
   "id": "b49e4bf6",
   "metadata": {},
   "outputs": [
    {
     "data": {
      "text/plain": [
       "array([[0.62418301],\n",
       "       [0.62214052],\n",
       "       [0.62622549],\n",
       "       ...,\n",
       "       [0.25347222],\n",
       "       [0.26041667],\n",
       "       [0.2563317 ]])"
      ]
     },
     "execution_count": 17,
     "metadata": {},
     "output_type": "execute_result"
    }
   ],
   "source": [
    "train_data"
   ]
  },
  {
   "cell_type": "code",
   "execution_count": 18,
   "id": "a5b2c451",
   "metadata": {},
   "outputs": [],
   "source": [
    "import numpy\n",
    "# convert an array of values into a dataset matrix\n",
    "def create_dataset(dataset,time_step=1):\n",
    "    dataX,dataY = [],[]\n",
    "    for i in range(len(dataset)-time_step-1):\n",
    "        a= dataset[i:(i+time_step),0]\n",
    "        dataX.append(a)\n",
    "        dataY.append(dataset[i+time_step, 0])\n",
    "    return numpy.array(dataX), numpy.array(dataY)    "
   ]
  },
  {
   "cell_type": "code",
   "execution_count": 19,
   "id": "1f6eba01",
   "metadata": {},
   "outputs": [],
   "source": [
    "#reshape into X=t,t+1,t+2,t+3 and Y=t+4\n",
    "time_step = 100\n",
    "X_train, y_train = create_dataset(train_data, time_step)\n",
    "X_test , y_test = create_dataset(test_data, time_step)"
   ]
  },
  {
   "cell_type": "code",
   "execution_count": 20,
   "id": "fd14088b",
   "metadata": {},
   "outputs": [
    {
     "name": "stdout",
     "output_type": "stream",
     "text": [
      "[[0.62418301 0.62214052 0.62622549 ... 0.83455882 0.86213235 0.85273693]\n",
      " [0.62214052 0.62622549 0.63378268 ... 0.86213235 0.85273693 0.87111928]\n",
      " [0.62622549 0.63378268 0.62234477 ... 0.85273693 0.87111928 0.84497549]\n",
      " ...\n",
      " [0.34517974 0.31781046 0.33047386 ... 0.2816585  0.27001634 0.26531863]\n",
      " [0.31781046 0.33047386 0.32128268 ... 0.27001634 0.26531863 0.27389706]\n",
      " [0.33047386 0.32128268 0.34007353 ... 0.26531863 0.27389706 0.25347222]]\n"
     ]
    }
   ],
   "source": [
    "print(X_train)"
   ]
  },
  {
   "cell_type": "code",
   "execution_count": 21,
   "id": "f15b60a5",
   "metadata": {},
   "outputs": [
    {
     "name": "stdout",
     "output_type": "stream",
     "text": [
      "(612, 100)\n",
      "(612,)\n"
     ]
    },
    {
     "data": {
      "text/plain": [
       "(None, None)"
      ]
     },
     "execution_count": 21,
     "metadata": {},
     "output_type": "execute_result"
    }
   ],
   "source": [
    "print(X_test.shape), print(y_test.shape)"
   ]
  },
  {
   "cell_type": "code",
   "execution_count": 22,
   "id": "484ab171",
   "metadata": {},
   "outputs": [
    {
     "name": "stdout",
     "output_type": "stream",
     "text": [
      "(1221, 100)\n",
      "(1221,)\n"
     ]
    },
    {
     "data": {
      "text/plain": [
       "(None, None)"
      ]
     },
     "execution_count": 22,
     "metadata": {},
     "output_type": "execute_result"
    }
   ],
   "source": [
    "print(X_train.shape), print(y_train.shape)"
   ]
  },
  {
   "cell_type": "code",
   "execution_count": 23,
   "id": "aef041fb",
   "metadata": {},
   "outputs": [],
   "source": [
    "#reshape input to be [samples, time steps, features] which is required for LSTM\n",
    "X_train=X_train.reshape(X_train.shape[0],X_train.shape[1],1)\n",
    "X_test = X_test.reshape(X_test.shape[0],X_test.shape[1],1)"
   ]
  },
  {
   "cell_type": "code",
   "execution_count": 24,
   "id": "a5f4af27",
   "metadata": {},
   "outputs": [],
   "source": [
    "#Create the Stacked LSTM model\n",
    "from tensorflow.keras.models import Sequential\n",
    "from tensorflow.keras.layers import Dense\n",
    "from tensorflow.keras.layers import LSTM"
   ]
  },
  {
   "cell_type": "code",
   "execution_count": 25,
   "id": "ab10935f",
   "metadata": {},
   "outputs": [],
   "source": [
    "model=Sequential()\n",
    "model.add(LSTM(50,return_sequences=True,input_shape=(100,1)))\n",
    "model.add(LSTM(50,return_sequences=True))\n",
    "model.add(LSTM(50))\n",
    "model.add(Dense(1))\n",
    "model.compile(loss='mean_squared_error',optimizer='adam')"
   ]
  },
  {
   "cell_type": "code",
   "execution_count": 26,
   "id": "a62fb316",
   "metadata": {},
   "outputs": [
    {
     "name": "stdout",
     "output_type": "stream",
     "text": [
      "Model: \"sequential\"\n",
      "_________________________________________________________________\n",
      "Layer (type)                 Output Shape              Param #   \n",
      "=================================================================\n",
      "lstm (LSTM)                  (None, 100, 50)           10400     \n",
      "_________________________________________________________________\n",
      "lstm_1 (LSTM)                (None, 100, 50)           20200     \n",
      "_________________________________________________________________\n",
      "lstm_2 (LSTM)                (None, 50)                20200     \n",
      "_________________________________________________________________\n",
      "dense (Dense)                (None, 1)                 51        \n",
      "=================================================================\n",
      "Total params: 50,851\n",
      "Trainable params: 50,851\n",
      "Non-trainable params: 0\n",
      "_________________________________________________________________\n"
     ]
    }
   ],
   "source": [
    "model.summary()"
   ]
  },
  {
   "cell_type": "code",
   "execution_count": null,
   "id": "cbb56400",
   "metadata": {},
   "outputs": [
    {
     "name": "stdout",
     "output_type": "stream",
     "text": [
      "Epoch 1/100\n",
      "20/20 [==============================] - 43s 997ms/step - loss: 0.0249 - val_loss: 0.0033\n",
      "Epoch 2/100\n",
      "20/20 [==============================] - 13s 650ms/step - loss: 0.0040 - val_loss: 0.0014\n",
      "Epoch 3/100\n",
      "20/20 [==============================] - 12s 614ms/step - loss: 0.0020 - val_loss: 0.0011\n",
      "Epoch 4/100\n",
      "20/20 [==============================] - 11s 547ms/step - loss: 0.0020 - val_loss: 8.9613e-04\n",
      "Epoch 5/100\n",
      "20/20 [==============================] - 11s 573ms/step - loss: 0.0015 - val_loss: 9.6511e-04\n",
      "Epoch 6/100\n",
      "20/20 [==============================] - 11s 542ms/step - loss: 0.0013 - val_loss: 0.0011\n",
      "Epoch 7/100\n",
      "20/20 [==============================] - 11s 531ms/step - loss: 0.0013 - val_loss: 8.6232e-04\n",
      "Epoch 8/100\n",
      "20/20 [==============================] - 11s 535ms/step - loss: 0.0013 - val_loss: 9.8324e-04\n",
      "Epoch 9/100\n",
      "20/20 [==============================] - 11s 554ms/step - loss: 0.0013 - val_loss: 8.7542e-04\n",
      "Epoch 10/100\n",
      "20/20 [==============================] - 11s 578ms/step - loss: 0.0011 - val_loss: 8.0763e-04\n",
      "Epoch 11/100\n",
      "20/20 [==============================] - 13s 680ms/step - loss: 0.0011 - val_loss: 9.2317e-04\n",
      "Epoch 12/100\n",
      "20/20 [==============================] - 11s 563ms/step - loss: 0.0010 - val_loss: 8.9562e-04\n",
      "Epoch 13/100\n",
      "20/20 [==============================] - 11s 571ms/step - loss: 9.7434e-04 - val_loss: 9.3780e-04\n",
      "Epoch 14/100\n",
      "20/20 [==============================] - 10s 517ms/step - loss: 9.6328e-04 - val_loss: 9.3665e-04\n",
      "Epoch 15/100\n",
      "20/20 [==============================] - 12s 587ms/step - loss: 9.2577e-04 - val_loss: 9.8895e-04\n",
      "Epoch 16/100\n",
      "20/20 [==============================] - 12s 574ms/step - loss: 8.9500e-04 - val_loss: 7.4956e-04\n",
      "Epoch 17/100\n",
      "20/20 [==============================] - 12s 603ms/step - loss: 8.9003e-04 - val_loss: 6.7191e-04\n",
      "Epoch 18/100\n",
      "20/20 [==============================] - 11s 570ms/step - loss: 8.4300e-04 - val_loss: 8.4224e-04\n",
      "Epoch 19/100\n",
      "20/20 [==============================] - 15s 768ms/step - loss: 8.2110e-04 - val_loss: 8.7380e-04\n",
      "Epoch 20/100\n",
      "20/20 [==============================] - 12s 630ms/step - loss: 7.8903e-04 - val_loss: 9.4306e-04\n",
      "Epoch 21/100\n",
      "20/20 [==============================] - 13s 661ms/step - loss: 7.9348e-04 - val_loss: 6.5575e-04\n",
      "Epoch 22/100\n",
      "20/20 [==============================] - 12s 577ms/step - loss: 7.9173e-04 - val_loss: 6.4815e-04\n",
      "Epoch 23/100\n",
      "20/20 [==============================] - 12s 605ms/step - loss: 9.0573e-04 - val_loss: 0.0011\n",
      "Epoch 24/100\n",
      "20/20 [==============================] - 11s 556ms/step - loss: 0.0011 - val_loss: 0.0012\n",
      "Epoch 25/100\n",
      "20/20 [==============================] - 10s 525ms/step - loss: 7.6479e-04 - val_loss: 7.4733e-04\n",
      "Epoch 26/100\n",
      "20/20 [==============================] - 12s 598ms/step - loss: 7.9096e-04 - val_loss: 6.3757e-04\n",
      "Epoch 27/100\n",
      "20/20 [==============================] - 10s 524ms/step - loss: 7.5047e-04 - val_loss: 6.6585e-04\n",
      "Epoch 28/100\n",
      "20/20 [==============================] - 13s 682ms/step - loss: 8.4648e-04 - val_loss: 9.5964e-04\n",
      "Epoch 29/100\n",
      "20/20 [==============================] - 17s 848ms/step - loss: 6.7836e-04 - val_loss: 8.5723e-04\n",
      "Epoch 30/100\n",
      "20/20 [==============================] - 14s 710ms/step - loss: 6.4969e-04 - val_loss: 7.6831e-04\n",
      "Epoch 31/100\n",
      "20/20 [==============================] - 12s 593ms/step - loss: 6.8647e-04 - val_loss: 0.0010\n",
      "Epoch 32/100\n",
      "20/20 [==============================] - 13s 671ms/step - loss: 6.8129e-04 - val_loss: 9.0772e-04\n",
      "Epoch 33/100\n",
      "20/20 [==============================] - 11s 556ms/step - loss: 6.3929e-04 - val_loss: 7.1504e-04\n",
      "Epoch 34/100\n",
      "20/20 [==============================] - 12s 586ms/step - loss: 6.6116e-04 - val_loss: 7.7083e-04\n",
      "Epoch 35/100\n",
      "20/20 [==============================] - 12s 612ms/step - loss: 6.4588e-04 - val_loss: 7.1560e-04\n",
      "Epoch 36/100\n",
      "20/20 [==============================] - 12s 600ms/step - loss: 6.2515e-04 - val_loss: 5.9932e-04\n",
      "Epoch 37/100\n",
      "20/20 [==============================] - 11s 558ms/step - loss: 7.7279e-04 - val_loss: 6.5186e-04\n",
      "Epoch 38/100\n",
      "20/20 [==============================] - 10s 530ms/step - loss: 5.8958e-04 - val_loss: 9.9920e-04\n",
      "Epoch 39/100\n",
      "20/20 [==============================] - 11s 579ms/step - loss: 6.3064e-04 - val_loss: 6.4138e-04\n",
      "Epoch 40/100\n",
      "20/20 [==============================] - 10s 516ms/step - loss: 5.6868e-04 - val_loss: 5.5935e-04\n",
      "Epoch 41/100\n",
      "20/20 [==============================] - 12s 587ms/step - loss: 5.5302e-04 - val_loss: 6.4880e-04\n",
      "Epoch 42/100\n",
      "20/20 [==============================] - 10s 507ms/step - loss: 5.9369e-04 - val_loss: 5.0747e-04\n",
      "Epoch 43/100\n",
      "20/20 [==============================] - 11s 582ms/step - loss: 5.3490e-04 - val_loss: 7.6122e-04\n",
      "Epoch 44/100\n",
      "20/20 [==============================] - 11s 557ms/step - loss: 5.3260e-04 - val_loss: 5.9962e-04\n",
      "Epoch 45/100\n",
      "20/20 [==============================] - 10s 501ms/step - loss: 5.4389e-04 - val_loss: 6.4322e-04\n",
      "Epoch 46/100\n",
      "20/20 [==============================] - 10s 511ms/step - loss: 5.2448e-04 - val_loss: 5.0995e-04\n",
      "Epoch 47/100\n",
      "20/20 [==============================] - 10s 507ms/step - loss: 5.1566e-04 - val_loss: 4.9958e-04\n",
      "Epoch 48/100\n",
      "20/20 [==============================] - 11s 577ms/step - loss: 4.9552e-04 - val_loss: 5.0210e-04\n",
      "Epoch 49/100\n",
      "20/20 [==============================] - 11s 550ms/step - loss: 5.4296e-04 - val_loss: 6.5707e-04\n",
      "Epoch 50/100\n",
      "20/20 [==============================] - 10s 513ms/step - loss: 5.5346e-04 - val_loss: 4.4752e-04\n",
      "Epoch 51/100\n",
      "20/20 [==============================] - 10s 515ms/step - loss: 5.1735e-04 - val_loss: 6.6576e-04\n",
      "Epoch 52/100\n",
      "20/20 [==============================] - 10s 513ms/step - loss: 4.7228e-04 - val_loss: 4.3876e-04\n",
      "Epoch 53/100\n",
      "20/20 [==============================] - 10s 512ms/step - loss: 4.5563e-04 - val_loss: 0.0012\n",
      "Epoch 54/100\n",
      "20/20 [==============================] - 10s 501ms/step - loss: 0.0010 - val_loss: 4.6170e-04\n",
      "Epoch 55/100\n",
      "20/20 [==============================] - 11s 552ms/step - loss: 6.5655e-04 - val_loss: 4.4152e-04\n",
      "Epoch 56/100\n",
      "20/20 [==============================] - 14s 723ms/step - loss: 4.4033e-04 - val_loss: 5.0001e-04\n",
      "Epoch 57/100\n",
      "20/20 [==============================] - 13s 643ms/step - loss: 4.3912e-04 - val_loss: 5.4455e-04\n",
      "Epoch 58/100\n",
      "20/20 [==============================] - 13s 668ms/step - loss: 4.6969e-04 - val_loss: 4.0954e-04\n",
      "Epoch 59/100\n",
      "20/20 [==============================] - 11s 568ms/step - loss: 4.0660e-04 - val_loss: 4.9790e-04\n",
      "Epoch 60/100\n",
      "20/20 [==============================] - 12s 591ms/step - loss: 3.8358e-04 - val_loss: 4.4505e-04\n",
      "Epoch 61/100\n",
      "20/20 [==============================] - 13s 645ms/step - loss: 4.1634e-04 - val_loss: 4.3671e-04\n",
      "Epoch 62/100\n",
      "20/20 [==============================] - 17s 888ms/step - loss: 3.6987e-04 - val_loss: 5.0283e-04\n",
      "Epoch 63/100\n",
      "20/20 [==============================] - 20s 988ms/step - loss: 4.1041e-04 - val_loss: 3.6193e-04\n",
      "Epoch 64/100\n",
      "20/20 [==============================] - 19s 957ms/step - loss: 3.7872e-04 - val_loss: 3.1748e-04\n",
      "Epoch 65/100\n",
      "20/20 [==============================] - 15s 728ms/step - loss: 3.6804e-04 - val_loss: 3.8205e-04\n",
      "Epoch 66/100\n",
      "20/20 [==============================] - 15s 774ms/step - loss: 3.5830e-04 - val_loss: 3.0774e-04\n",
      "Epoch 67/100\n",
      "20/20 [==============================] - 14s 721ms/step - loss: 3.4810e-04 - val_loss: 3.4906e-04\n",
      "Epoch 68/100\n",
      "20/20 [==============================] - 15s 741ms/step - loss: 3.4521e-04 - val_loss: 3.6338e-04\n",
      "Epoch 69/100\n",
      "20/20 [==============================] - 14s 735ms/step - loss: 3.2445e-04 - val_loss: 2.7701e-04\n",
      "Epoch 70/100\n",
      "20/20 [==============================] - 14s 694ms/step - loss: 4.0033e-04 - val_loss: 3.2064e-04\n",
      "Epoch 71/100\n",
      "20/20 [==============================] - 13s 635ms/step - loss: 3.1265e-04 - val_loss: 2.6603e-04\n",
      "Epoch 72/100\n",
      "20/20 [==============================] - 14s 717ms/step - loss: 3.0221e-04 - val_loss: 3.1413e-04\n",
      "Epoch 73/100\n",
      "20/20 [==============================] - 11s 542ms/step - loss: 3.2137e-04 - val_loss: 2.9728e-04\n",
      "Epoch 74/100\n",
      "20/20 [==============================] - 12s 599ms/step - loss: 3.0776e-04 - val_loss: 2.6522e-04\n",
      "Epoch 75/100\n"
     ]
    },
    {
     "name": "stdout",
     "output_type": "stream",
     "text": [
      "20/20 [==============================] - 11s 536ms/step - loss: 3.2776e-04 - val_loss: 3.5164e-04\n",
      "Epoch 76/100\n",
      "20/20 [==============================] - 10s 528ms/step - loss: 2.8708e-04 - val_loss: 2.9491e-04\n",
      "Epoch 77/100\n",
      "20/20 [==============================] - 11s 570ms/step - loss: 2.8616e-04 - val_loss: 2.3090e-04\n",
      "Epoch 78/100\n",
      "20/20 [==============================] - 11s 539ms/step - loss: 2.9171e-04 - val_loss: 2.9096e-04\n",
      "Epoch 79/100\n",
      "20/20 [==============================] - 10s 520ms/step - loss: 2.8137e-04 - val_loss: 3.2263e-04\n",
      "Epoch 80/100\n",
      "20/20 [==============================] - 11s 529ms/step - loss: 3.2132e-04 - val_loss: 2.2901e-04\n",
      "Epoch 81/100\n",
      "20/20 [==============================] - 11s 553ms/step - loss: 2.9448e-04 - val_loss: 3.0023e-04\n",
      "Epoch 82/100\n",
      "20/20 [==============================] - 11s 534ms/step - loss: 2.8432e-04 - val_loss: 2.4150e-04\n",
      "Epoch 83/100\n",
      "20/20 [==============================] - 11s 534ms/step - loss: 3.0197e-04 - val_loss: 2.4281e-04\n",
      "Epoch 84/100\n",
      "20/20 [==============================] - 11s 560ms/step - loss: 2.5152e-04 - val_loss: 2.1957e-04\n",
      "Epoch 85/100\n",
      "20/20 [==============================] - 10s 527ms/step - loss: 2.9527e-04 - val_loss: 2.6633e-04\n",
      "Epoch 86/100\n",
      "20/20 [==============================] - 11s 546ms/step - loss: 8.7867e-04 - val_loss: 2.8953e-04\n",
      "Epoch 87/100\n",
      "20/20 [==============================] - 11s 543ms/step - loss: 3.7557e-04 - val_loss: 2.7965e-04\n",
      "Epoch 88/100\n",
      "20/20 [==============================] - 13s 656ms/step - loss: 2.6202e-04 - val_loss: 2.7280e-04\n",
      "Epoch 89/100\n",
      "20/20 [==============================] - 12s 592ms/step - loss: 3.3458e-04 - val_loss: 3.4982e-04\n",
      "Epoch 90/100\n",
      "20/20 [==============================] - 12s 607ms/step - loss: 2.3924e-04 - val_loss: 2.2278e-04\n",
      "Epoch 91/100\n",
      "20/20 [==============================] - 12s 602ms/step - loss: 3.0469e-04 - val_loss: 2.0454e-04\n",
      "Epoch 92/100\n",
      "20/20 [==============================] - 12s 597ms/step - loss: 2.3334e-04 - val_loss: 2.3333e-04\n",
      "Epoch 93/100\n",
      "20/20 [==============================] - 10s 510ms/step - loss: 2.8022e-04 - val_loss: 2.1364e-04\n",
      "Epoch 94/100\n",
      "20/20 [==============================] - 10s 526ms/step - loss: 2.8788e-04 - val_loss: 1.9147e-04\n",
      "Epoch 95/100\n",
      "20/20 [==============================] - 10s 516ms/step - loss: 2.5672e-04 - val_loss: 2.4302e-04\n",
      "Epoch 96/100\n",
      "20/20 [==============================] - 12s 605ms/step - loss: 2.4122e-04 - val_loss: 1.9919e-04\n",
      "Epoch 97/100\n",
      "20/20 [==============================] - 11s 530ms/step - loss: 2.3950e-04 - val_loss: 2.5393e-04\n",
      "Epoch 98/100\n",
      "20/20 [==============================] - 11s 561ms/step - loss: 2.6083e-04 - val_loss: 1.9052e-04\n",
      "Epoch 99/100\n",
      "20/20 [==============================] - ETA: 0s - loss: 2.8516e-04"
     ]
    }
   ],
   "source": [
    "model.fit(X_train,y_train,validation_data=(X_test,y_test),epochs=100,batch_size=64,verbose=1)"
   ]
  },
  {
   "cell_type": "code",
   "execution_count": null,
   "id": "cf9d21fe",
   "metadata": {},
   "outputs": [],
   "source": [
    "import tensorflow as tf"
   ]
  },
  {
   "cell_type": "code",
   "execution_count": null,
   "id": "bb4e9d3e",
   "metadata": {},
   "outputs": [],
   "source": [
    "tf.__version__"
   ]
  },
  {
   "cell_type": "code",
   "execution_count": null,
   "id": "14627a9a",
   "metadata": {},
   "outputs": [],
   "source": [
    "#Lets do the prediction and check performance metrics\n",
    "train_predict=model.predict(X_train)\n",
    "test_predict=model.predict(X_test)\n"
   ]
  },
  {
   "cell_type": "code",
   "execution_count": null,
   "id": "acc00fec",
   "metadata": {},
   "outputs": [],
   "source": [
    "#transformback to original form\n",
    "train_predict=scaler.inverse_transform(train_predict)\n",
    "test_predict=scaler.inverse_transform(test_predict)"
   ]
  },
  {
   "cell_type": "code",
   "execution_count": null,
   "id": "b07f166c",
   "metadata": {},
   "outputs": [],
   "source": [
    "#Calculate RMSE performance metrics\n",
    "import math\n",
    "from sklearn.metrics import mean_squared_error\n",
    "math.sqrt(mean_squared_error(y_train,train_predict))"
   ]
  },
  {
   "cell_type": "code",
   "execution_count": null,
   "id": "d40d2aa4",
   "metadata": {},
   "outputs": [],
   "source": [
    "#Test Data RMSE\n",
    "math.sqrt(mean_squared_error(y_test,test_predict))"
   ]
  },
  {
   "cell_type": "code",
   "execution_count": null,
   "id": "532aa355",
   "metadata": {},
   "outputs": [],
   "source": [
    "train_predict"
   ]
  },
  {
   "cell_type": "code",
   "execution_count": null,
   "id": "2949dd46",
   "metadata": {},
   "outputs": [],
   "source": [
    "#Plotting\n",
    "#Shift train predictions for plotting\n",
    "look_back=100\n",
    "trainPredictPlot = numpy.empty_like(df2)\n",
    "trainPredictPlot[:,:]= np.nan\n",
    "trainPredictPlot[look_back:len(train_predict)+look_back, :] = train_predict\n",
    "#shift test predictions for plotting\n",
    "testPredictPlot = numpy.empty_like(df2)\n",
    "testPredictPlot[: , :] = numpy.nan\n",
    "testPredictPlot[len(train_predict)+(look_back*2)+1:len(df2)-1, :] = test_predict\n",
    "#plot baseline and predictions\n",
    "plt.plot(scaler.inverse_transform(df2))\n",
    "plt.plot(trainPredictPlot)\n",
    "plt.plot(testPredictPlot)\n",
    "plt.show()"
   ]
  },
  {
   "cell_type": "code",
   "execution_count": null,
   "id": "54d29a05",
   "metadata": {},
   "outputs": [],
   "source": [
    "len(test_data)"
   ]
  },
  {
   "cell_type": "code",
   "execution_count": null,
   "id": "0150982e",
   "metadata": {},
   "outputs": [],
   "source": [
    "x_input=test_data[613:].reshape(1,-1)\n",
    "x_input.shape"
   ]
  },
  {
   "cell_type": "code",
   "execution_count": null,
   "id": "05dbd4b8",
   "metadata": {},
   "outputs": [],
   "source": [
    "x_input=test_data[613:].reshape(1,-1)"
   ]
  },
  {
   "cell_type": "code",
   "execution_count": null,
   "id": "df126cdd",
   "metadata": {},
   "outputs": [],
   "source": [
    "x_input.shape"
   ]
  },
  {
   "cell_type": "code",
   "execution_count": null,
   "id": "bd3d7d0e",
   "metadata": {},
   "outputs": [],
   "source": [
    "temp_input=list(x_input)\n",
    "temp_input=temp_input[0].tolist()"
   ]
  },
  {
   "cell_type": "code",
   "execution_count": null,
   "id": "1f0f9222",
   "metadata": {},
   "outputs": [],
   "source": [
    "temp_input"
   ]
  },
  {
   "cell_type": "code",
   "execution_count": null,
   "id": "e301fe4d",
   "metadata": {},
   "outputs": [],
   "source": [
    "from numpy import array\n",
    "lst_output=[]\n",
    "n_steps=100\n",
    "i=0\n",
    "while(i<30):\n",
    "    if(len(temp_input)>100):\n",
    "        #print(temp_input)\n",
    "        x_input=np.array(temp_input[1:])\n",
    "        print(\"{} day input {}\".format(i,x_input))\n",
    "        x_input=x_input.reshape(1,-1)\n",
    "        x_input= x_input.reshape((1, n_steps, 1))\n",
    "        #print(x_input)\n",
    "        yhat = model.predict(x_input, verbose=0)\n",
    "        print(\"{} day output {}\".format(i,yhat))\n",
    "        temp_input.extend(yhat[0].tolist())\n",
    "        temp_input=temp_input[1:]\n",
    "        #print(temp_input)\n",
    "        lst_output.extend(yhat.tolist())\n",
    "        i=i+1\n",
    "    else:\n",
    "        x_input = x_input.reshape((1 , n_steps, 1))\n",
    "        yhat = model.predict(x_input, verbose=0)\n",
    "        print(yhat[0])\n",
    "        temp_input.extend(yhat[0].tolist())\n",
    "        print(len(temp_input))\n",
    "        lst_output.extend(yhat.tolist())\n",
    "        i=i+1\n",
    "print(lst_output)"
   ]
  },
  {
   "cell_type": "code",
   "execution_count": null,
   "id": "33568a7d",
   "metadata": {},
   "outputs": [],
   "source": [
    "day_new=np.arange(1,101)\n",
    "day_pred=np.arange(101,131)"
   ]
  },
  {
   "cell_type": "code",
   "execution_count": null,
   "id": "5bb1c5ac",
   "metadata": {},
   "outputs": [],
   "source": [
    "import matplotlib.pyplot as plt"
   ]
  },
  {
   "cell_type": "code",
   "execution_count": null,
   "id": "8f4bcdcd",
   "metadata": {},
   "outputs": [],
   "source": [
    "len(df2)\n"
   ]
  },
  {
   "cell_type": "code",
   "execution_count": null,
   "id": "718ba2fe",
   "metadata": {},
   "outputs": [],
   "source": [
    "df3=df2.tolist()\n",
    "df3.extend(lst_output)"
   ]
  },
  {
   "cell_type": "code",
   "execution_count": null,
   "id": "83ff14c8",
   "metadata": {},
   "outputs": [],
   "source": [
    "plt.plot(day_new,scaler.inverse_transform(df2[1935:]))\n",
    "plt.plot(day_pred,scaler.inverse_transform(lst_output))"
   ]
  },
  {
   "cell_type": "code",
   "execution_count": null,
   "id": "3ec53a05",
   "metadata": {},
   "outputs": [],
   "source": [
    "plt.plot(df3[1000:])"
   ]
  },
  {
   "cell_type": "code",
   "execution_count": null,
   "id": "6a84d7b7",
   "metadata": {},
   "outputs": [],
   "source": [
    "Thank You!"
   ]
  }
 ],
 "metadata": {
  "kernelspec": {
   "display_name": "Python 3",
   "language": "python",
   "name": "python3"
  },
  "language_info": {
   "codemirror_mode": {
    "name": "ipython",
    "version": 3
   },
   "file_extension": ".py",
   "mimetype": "text/x-python",
   "name": "python",
   "nbconvert_exporter": "python",
   "pygments_lexer": "ipython3",
   "version": "3.9.2"
  }
 },
 "nbformat": 4,
 "nbformat_minor": 5
}
